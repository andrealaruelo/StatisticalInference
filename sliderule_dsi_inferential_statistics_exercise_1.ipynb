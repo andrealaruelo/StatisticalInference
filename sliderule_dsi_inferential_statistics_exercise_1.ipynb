{
 "cells": [
  {
   "cell_type": "markdown",
   "metadata": {},
   "source": [
    "# What is the True Normal Human Body Temperature? \n",
    "\n",
    "#### Background\n",
    "\n",
    "The mean normal body temperature was held to be 37$^{\\circ}$C or 98.6$^{\\circ}$F for more than 120 years since it was first conceptualized and reported by Carl Wunderlich in a famous 1868 book. But, is this value statistically correct?"
   ]
  },
  {
   "cell_type": "markdown",
   "metadata": {},
   "source": [
    "<div class=\"span5 alert alert-info\">\n",
    "<h3>Exercises</h3>\n",
    "\n",
    "<p>In this exercise, you will analyze a dataset of human body temperatures and employ the concepts of hypothesis testing, confidence intervals, and statistical significance.</p>\n",
    "\n",
    "<p>Answer the following questions <b>in this notebook below and submit to your Github account</b>.</p> \n",
    "\n",
    "<ol>\n",
    "<li>  Is the distribution of body temperatures normal? \n",
    "    <ul>\n",
    "    <li> Although this is not a requirement for CLT to hold (read CLT carefully), it gives us some peace of mind that the population may also be normally distributed if we assume that this sample is representative of the population.\n",
    "    </ul>\n",
    "<li>  Is the sample size large? Are the observations independent?\n",
    "    <ul>\n",
    "    <li> Remember that this is a condition for the CLT, and hence the statistical tests we are using, to apply.\n",
    "    </ul>\n",
    "<li>  Is the true population mean really 98.6 degrees F?\n",
    "    <ul>\n",
    "    <li> Would you use a one-sample or two-sample test? Why?\n",
    "    <li> In this situation, is it appropriate to use the $t$ or $z$ statistic? \n",
    "    <li> Now try using the other test. How is the result be different? Why?\n",
    "    </ul>\n",
    "<li>  At what temperature should we consider someone's temperature to be \"abnormal\"?\n",
    "    <ul>\n",
    "    <li> Start by computing the margin of error and confidence interval.\n",
    "    </ul>\n",
    "<li>  Is there a significant difference between males and females in normal temperature?\n",
    "    <ul>\n",
    "    <li> What test did you use and why?\n",
    "    <li> Write a story with your conclusion in the context of the original problem.\n",
    "    </ul>\n",
    "</ol>\n",
    "\n",
    "You can include written notes in notebook cells using Markdown: \n",
    "   - In the control panel at the top, choose Cell > Cell Type > Markdown\n",
    "   - Markdown syntax: http://nestacms.com/docs/creating-content/markdown-cheat-sheet\n",
    "\n",
    "#### Resources\n",
    "\n",
    "+ Information and data sources: http://www.amstat.org/publications/jse/datasets/normtemp.txt, http://www.amstat.org/publications/jse/jse_data_archive.htm\n",
    "+ Markdown syntax: http://nestacms.com/docs/creating-content/markdown-cheat-sheet\n",
    "\n",
    "****\n",
    "</div>"
   ]
  },
  {
   "cell_type": "markdown",
   "metadata": {
    "collapsed": true
   },
   "source": [
    "## 1.Is the distribution of body temperatures normal? "
   ]
  },
  {
   "cell_type": "code",
   "execution_count": 1,
   "metadata": {
    "collapsed": false
   },
   "outputs": [
    {
     "name": "stdout",
     "output_type": "stream",
     "text": [
      "<class 'pandas.core.frame.DataFrame'>\n",
      "RangeIndex: 130 entries, 0 to 129\n",
      "Data columns (total 3 columns):\n",
      "temperature    130 non-null float64\n",
      "gender         130 non-null object\n",
      "heart_rate     130 non-null float64\n",
      "dtypes: float64(2), object(1)\n",
      "memory usage: 3.1+ KB\n"
     ]
    }
   ],
   "source": [
    "# Take a look to the distribution\n",
    "\n",
    "import pandas as pd\n",
    "\n",
    "#Read the data from CSV file\n",
    "df = pd.read_csv('data/human_body_temperature.csv')\n",
    "\n",
    "df.info()\n",
    "#130 samples\n",
    "#No null values"
   ]
  },
  {
   "cell_type": "code",
   "execution_count": 2,
   "metadata": {
    "collapsed": false
   },
   "outputs": [
    {
     "data": {
      "text/html": [
       "<div>\n",
       "<table border=\"1\" class=\"dataframe\">\n",
       "  <thead>\n",
       "    <tr style=\"text-align: right;\">\n",
       "      <th></th>\n",
       "      <th>temperature</th>\n",
       "      <th>heart_rate</th>\n",
       "    </tr>\n",
       "  </thead>\n",
       "  <tbody>\n",
       "    <tr>\n",
       "      <th>count</th>\n",
       "      <td>130.000000</td>\n",
       "      <td>130.000000</td>\n",
       "    </tr>\n",
       "    <tr>\n",
       "      <th>mean</th>\n",
       "      <td>98.249231</td>\n",
       "      <td>73.761538</td>\n",
       "    </tr>\n",
       "    <tr>\n",
       "      <th>std</th>\n",
       "      <td>0.733183</td>\n",
       "      <td>7.062077</td>\n",
       "    </tr>\n",
       "    <tr>\n",
       "      <th>min</th>\n",
       "      <td>96.300000</td>\n",
       "      <td>57.000000</td>\n",
       "    </tr>\n",
       "    <tr>\n",
       "      <th>25%</th>\n",
       "      <td>97.800000</td>\n",
       "      <td>69.000000</td>\n",
       "    </tr>\n",
       "    <tr>\n",
       "      <th>50%</th>\n",
       "      <td>98.300000</td>\n",
       "      <td>74.000000</td>\n",
       "    </tr>\n",
       "    <tr>\n",
       "      <th>75%</th>\n",
       "      <td>98.700000</td>\n",
       "      <td>79.000000</td>\n",
       "    </tr>\n",
       "    <tr>\n",
       "      <th>max</th>\n",
       "      <td>100.800000</td>\n",
       "      <td>89.000000</td>\n",
       "    </tr>\n",
       "  </tbody>\n",
       "</table>\n",
       "</div>"
      ],
      "text/plain": [
       "       temperature  heart_rate\n",
       "count   130.000000  130.000000\n",
       "mean     98.249231   73.761538\n",
       "std       0.733183    7.062077\n",
       "min      96.300000   57.000000\n",
       "25%      97.800000   69.000000\n",
       "50%      98.300000   74.000000\n",
       "75%      98.700000   79.000000\n",
       "max     100.800000   89.000000"
      ]
     },
     "execution_count": 2,
     "metadata": {},
     "output_type": "execute_result"
    }
   ],
   "source": [
    "df.describe() \n",
    "#sample statistics"
   ]
  },
  {
   "cell_type": "code",
   "execution_count": 3,
   "metadata": {
    "collapsed": false
   },
   "outputs": [
    {
     "data": {
      "text/plain": [
       "<matplotlib.axes._subplots.AxesSubplot at 0x13ff359fd0>"
      ]
     },
     "execution_count": 3,
     "metadata": {},
     "output_type": "execute_result"
    },
    {
     "data": {
      "image/png": "[encoded data removed]",
      "text/plain": [
       "<matplotlib.figure.Figure at 0x13fe355048>"
      ]
     },
     "metadata": {},
     "output_type": "display_data"
    }
   ],
   "source": [
    "#Is the distribution normal?\n",
    "#Normality test\n",
    "\n",
    "%matplotlib inline\n",
    "import scipy.stats as stats\n",
    "\n",
    "x = df.temperature\n",
    "\n",
    "#Plot the distribution\n",
    "x.value_counts().sort_index().plot(kind='bar')\n"
   ]
  },
  {
   "cell_type": "code",
   "execution_count": 4,
   "metadata": {
    "collapsed": false
   },
   "outputs": [
    {
     "data": {
      "text/plain": [
       "(98.24923076923078, 98.3, 0    98.0\n",
       " dtype: float64)"
      ]
     },
     "execution_count": 4,
     "metadata": {},
     "output_type": "execute_result"
    }
   ],
   "source": [
    "#A characteristic of the normal distribution is that the mean  (average), median , and mode  are equal.\n",
    "x.mean(), x.median(), x.mode()"
   ]
  },
  {
   "cell_type": "code",
   "execution_count": 5,
   "metadata": {
    "collapsed": false
   },
   "outputs": [
    {
     "data": {
      "text/plain": [
       "-0.0044191311689957711"
      ]
     },
     "execution_count": 5,
     "metadata": {},
     "output_type": "execute_result"
    }
   ],
   "source": [
    "#Compute skewness \n",
    "\n",
    "#Skewness is the measure of the asymmetry of a histogram (frequency distribution). \n",
    "#A histogram with normal distribution is symmetrical. In other words, the same amount of data falls on both sides of the mean. \n",
    "#****A normal distribution  will have a skewness of 0.**** \n",
    "#The larger the number, the longer the tail. \n",
    "#If skewness is positive, the tail on the right side of the distribution will be longer. \n",
    "#If skewness is negative, the tail on the left side will be longer\n",
    "\n",
    "x.skew() "
   ]
  },
  {
   "cell_type": "code",
   "execution_count": 6,
   "metadata": {
    "collapsed": false
   },
   "outputs": [
    {
     "data": {
      "text/plain": [
       "0.78045739503373746"
      ]
     },
     "execution_count": 6,
     "metadata": {},
     "output_type": "execute_result"
    }
   ],
   "source": [
    "#Compute kurtosis\n",
    "\n",
    "#Kurtosis is a measure of the combined weight of the tails in relation to the rest of the distribution. \n",
    "#As the tails of a distribution become heavier, the kurtosis value will increase. \n",
    "#As the tails become lighter the kurtosis value will decrease. \n",
    "#****A histogram with a normal distribution has a kurtosis of 0.**** \n",
    "x.kurtosis()"
   ]
  },
  {
   "cell_type": "code",
   "execution_count": 7,
   "metadata": {
    "collapsed": false
   },
   "outputs": [
    {
     "data": {
      "text/plain": [
       "NormaltestResult(statistic=2.7038014333192031, pvalue=0.2587479863488254)"
      ]
     },
     "execution_count": 7,
     "metadata": {},
     "output_type": "execute_result"
    }
   ],
   "source": [
    "#This function tests the null hypothesis that a sample comes from a normal distribution. \n",
    "#It is based on D’Agostino and Pearson’s method\n",
    "stats.normaltest(x) \n",
    "\n",
    "#Note: \n",
    "#normaltest returns a 2-tuple of the chi-squared statistic, and the associated p-value. \n",
    "#Given the null hypothesis that x came from a normal distribution, the p-value represents the probability that \n",
    "#a chi-squared statistic that large (or larger) would be seen.\n",
    "\n",
    "#Our p-value > 0.05 so we have good evidence to not reject the null-hypothesis."
   ]
  },
  {
   "cell_type": "code",
   "execution_count": 8,
   "metadata": {
    "collapsed": false
   },
   "outputs": [
    {
     "data": {
      "text/plain": [
       "(10.383447984151202, 98.256435405221964, 0.65710385265929716)"
      ]
     },
     "execution_count": 8,
     "metadata": {},
     "output_type": "execute_result"
    }
   ],
   "source": [
    "stats.t.fit(x)"
   ]
  },
  {
   "cell_type": "code",
   "execution_count": 10,
   "metadata": {
    "collapsed": false
   },
   "outputs": [
    {
     "data": {
      "image/png": "[encoded data removed]",
      "text/plain": [
       "<matplotlib.figure.Figure at 0x13fac835c0>"
      ]
     },
     "metadata": {},
     "output_type": "display_data"
    }
   ],
   "source": [
    "from scipy import stats  \n",
    "import numpy as np  \n",
    "import matplotlib.pylab as plt\n",
    "\n",
    "\n",
    "# plot normed histogram and compare with normal distribution\n",
    "plt.hist(x, normed=True)\n",
    "\n",
    "# find minimum and maximum of xticks, so we know\n",
    "# where we should compute theoretical distribution\n",
    "xt = plt.xticks()[0]  \n",
    "xmin, xmax = min(xt), max(xt)  \n",
    "lnspc = np.linspace(xmin, xmax, len(x))\n",
    "\n",
    "# lets try the normal distribution first\n",
    "m, s = stats.norm.fit(x) # get mean and standard deviation  \n",
    "pdf_g = stats.norm.pdf(lnspc, m, s) # now get theoretical values in our interval  \n",
    "plt.plot(lnspc, pdf_g, label=\"Norm\") # plot it\n",
    "\n",
    "\n",
    "plt.show()  "
   ]
  },
  {
   "cell_type": "code",
   "execution_count": 12,
   "metadata": {
    "collapsed": false
   },
   "outputs": [
    {
     "data": {
      "image/png": "[encoded data removed]",
      "text/plain": [
       "<matplotlib.figure.Figure at 0x13ffd25978>"
      ]
     },
     "metadata": {},
     "output_type": "display_data"
    }
   ],
   "source": [
    "#Use probplot to evaluate in our sample follows a normal distribution or not\n",
    "\n",
    "import pylab \n",
    "stats.probplot(x, dist=\"norm\", plot=pylab)\n",
    "pylab.show()"
   ]
  },
  {
   "cell_type": "markdown",
   "metadata": {
    "collapsed": true
   },
   "source": [
    "**It is not 'strictly' a normal distribution but it is close**"
   ]
  },
  {
   "cell_type": "markdown",
   "metadata": {
    "collapsed": true
   },
   "source": [
    "## 2. Is the sample size large? Are the observations independent? \n",
    "\n",
    "It is known that with a sample size of at least 30, \n",
    "the CLT holds (i.e. the distribution of the sample mean is approximately normally distributed).\n",
    "In our case, the sample size = 130 >> 30, therefore we can consider that the sample size is large enough.\n",
    "Temperature meaurements are taken from different individuals at differetn times,\n",
    "so we can assume that they are independent."
   ]
  },
  {
   "cell_type": "markdown",
   "metadata": {
    "collapsed": true
   },
   "source": [
    "## 3. Is the true population mean really 98.6 degrees F?                      \n",
    "                                                                           \n",
    "    -Would you use a one-sample or two-sample test? Why?                   \n",
    "    -In this situation, is it appropriate to use the tt or zz statistic?   \n",
    "    -Now try using the other test. How is the result be different? Why?                                                                                \n"
   ]
  },
  {
   "cell_type": "markdown",
   "metadata": {},
   "source": [
    "The sample mean 98.2492 may suggest that the true population mean differs from 98.6."
   ]
  },
  {
   "cell_type": "code",
   "execution_count": 13,
   "metadata": {
    "collapsed": false
   },
   "outputs": [
    {
     "data": {
      "text/plain": [
       "(98.24923076923078, 0.7331831580389454)"
      ]
     },
     "execution_count": 13,
     "metadata": {},
     "output_type": "execute_result"
    }
   ],
   "source": [
    "temperature = df.temperature\n",
    "sample_mean = temperature.mean()\n",
    "sample_std = temperature.std()\n",
    "sample_mean, sample_std"
   ]
  },
  {
   "cell_type": "code",
   "execution_count": 17,
   "metadata": {
    "collapsed": false
   },
   "outputs": [
    {
     "data": {
      "image/png": "[encoded data removed]",
      "text/plain": [
       "<matplotlib.figure.Figure at 0x13816284e0>"
      ]
     },
     "metadata": {},
     "output_type": "display_data"
    }
   ],
   "source": [
    "#CLT: The sampling distribution of the population mean will be approximatelly normally distributed \n",
    "#with mean = population_mean = 98.6 and and std = sampling_std / sqrt(N)\n",
    "\n",
    "\n",
    "import matplotlib.pyplot as plt\n",
    "import numpy as np\n",
    "import matplotlib.mlab as mlab\n",
    "import math\n",
    "\n",
    "mu = 98.6\n",
    "variance = sample_std / math.sqrt(130)\n",
    "sigma = math.sqrt(variance)\n",
    "x = np.linspace(mu-10*variance,mu+10*variance, 100)\n",
    "p1, = plt.plot(x,mlab.normpdf(x, mu, sigma))\n",
    "\n",
    "p2, = plt.plot([mu-1.2 * sigma, mu - 1.2 * sigma],[0, 1.6],'r-')\n",
    "p3, = plt.plot([sample_mean, sample_mean],[0, 0],'k*')\n",
    "\n",
    "plt.legend([p1,p2,p3],['sampling \\n distribution', '1.2*sigma', 'sample mean'])\n",
    "\n",
    "plt.title('Sampling distribution of the mean')\n",
    "\n",
    "plt.show()\n"
   ]
  },
  {
   "cell_type": "markdown",
   "metadata": {
    "collapsed": true
   },
   "source": [
    "A **one-tailed** test will test either if the mean is significanlty greather than the hypothesis of\n",
    "or if the mean is significantly lower than the hypothesis mean, but not both.\n",
    "A **two-tailed** test will test both if the mean is significanlty greather or lower than the hypothesized mean\n",
    "**Since we want to check wether the true mean = 98.6 or not (it could be lower or higher), \n",
    "it is more appropriate to use a two-sided test.**"
   ]
  },
  {
   "cell_type": "markdown",
   "metadata": {
    "collapsed": true
   },
   "source": [
    "The **z-test** is used when the std of the population is known, or when n > 30.\n",
    "In this problem we don't know the std of our population, but, we have n > 30. Therefore\n",
    "we can use the z-test.\n",
    "However, **when n >> 30, the t-distribution and the z-distribution are very similar.**\n",
    "Therefore, both tests should provide similar results."
   ]
  },
  {
   "cell_type": "code",
   "execution_count": 18,
   "metadata": {
    "collapsed": false
   },
   "outputs": [
    {
     "data": {
      "text/plain": [
       "-5.454823292364079"
      ]
     },
     "execution_count": 18,
     "metadata": {},
     "output_type": "execute_result"
    }
   ],
   "source": [
    "#Results using the z-test\n",
    "z = (sample_mean - 98.6)/(sample_std/math.sqrt(130))\n",
    "z"
   ]
  },
  {
   "cell_type": "markdown",
   "metadata": {
    "collapsed": false
   },
   "source": [
    "Let's set the alpha level = 0.05.\n",
    "\n",
    "Since this is a two-sided test, split the alpha into two 0.05/2 = 0.025\n",
    "The z-score associated with alpha level = 0.025 is 1.96.\n",
    "If our z-score is lower than -1.96 or higher than 1.96 then reject the null hypothesis.\n",
    "\n",
    "**In our case, the z-score = -5.4548 < -1.96, therefore we can reject the null hypothesis**"
   ]
  },
  {
   "cell_type": "markdown",
   "metadata": {},
   "source": [
    "As expected, similar results are obtained using the t-test"
   ]
  },
  {
   "cell_type": "code",
   "execution_count": 20,
   "metadata": {
    "collapsed": false
   },
   "outputs": [
    {
     "data": {
      "text/plain": [
       "-5.454823292364079"
      ]
     },
     "execution_count": 20,
     "metadata": {},
     "output_type": "execute_result"
    }
   ],
   "source": [
    "#Result using the t-test\n",
    "t = (sample_mean - 98.6)/(sample_std/math.sqrt(130))\n",
    "t\n",
    "#the probability associated to this t-score is less than 0.0005*2 = 0.001 < 0.05 \n",
    "#--> therefore we can reject the null hypothesis"
   ]
  },
  {
   "cell_type": "markdown",
   "metadata": {
    "collapsed": true
   },
   "source": [
    "As mentioned before, when n > 30 the t-distribution and the z-distribution are very similar, \n",
    "and therefore, the the results using the z and t tests are very similar."
   ]
  },
  {
   "cell_type": "markdown",
   "metadata": {
    "collapsed": true
   },
   "source": [
    "## 4. At what temperature should we consider someone's temperature to be \"abnormal\"?\n",
    "- Start by computing the margin of error and confidence interval. "
   ]
  },
  {
   "cell_type": "code",
   "execution_count": 25,
   "metadata": {
    "collapsed": false
   },
   "outputs": [
    {
     "data": {
      "text/plain": [
       "0.10610228778252015"
      ]
     },
     "execution_count": 25,
     "metadata": {},
     "output_type": "execute_result"
    }
   ],
   "source": [
    "#Margin of error for a 95% confidence\n",
    "#z-value = 1.65\n",
    "z = 1.65\n",
    "margin_error = z*sample_std/math.sqrt(130)\n",
    "margin_error"
   ]
  },
  {
   "cell_type": "code",
   "execution_count": 26,
   "metadata": {
    "collapsed": false
   },
   "outputs": [
    {
     "data": {
      "text/plain": [
       "[98.14312848144826, 98.3553330570133]"
      ]
     },
     "execution_count": 26,
     "metadata": {},
     "output_type": "execute_result"
    }
   ],
   "source": [
    "#95% confidence interval \n",
    "[sample_mean - abs(margin_error), sample_mean + abs(margin_error)]"
   ]
  },
  {
   "cell_type": "code",
   "execution_count": 27,
   "metadata": {
    "collapsed": false
   },
   "outputs": [
    {
     "data": {
      "text/plain": [
       "(98.03702619366574, 98.46143534479582)"
      ]
     },
     "execution_count": 27,
     "metadata": {},
     "output_type": "execute_result"
    }
   ],
   "source": [
    "#We can consider that someones temperature is abnormal if it, for example, lower or higher than 2*margin_error\n",
    "abnormal_temperature_low = sample_mean - 2*abs(margin_error)\n",
    "abnormal_temperature_high = sample_mean + 2*abs(margin_error)\n",
    "abnormal_temperature_low, abnormal_temperature_high"
   ]
  },
  {
   "cell_type": "code",
   "execution_count": null,
   "metadata": {
    "collapsed": true
   },
   "outputs": [],
   "source": []
  },
  {
   "cell_type": "code",
   "execution_count": null,
   "metadata": {
    "collapsed": true
   },
   "outputs": [],
   "source": []
  },
  {
   "cell_type": "markdown",
   "metadata": {
    "collapsed": true
   },
   "source": [
    "## 5. Is there a significant difference between males and females in normal temperature?\n",
    "\n",
    "-  What test did you use and why?\n",
    "-  Write a story with your conclusion in the context of the original problem. "
   ]
  },
  {
   "cell_type": "code",
   "execution_count": 31,
   "metadata": {
    "collapsed": false
   },
   "outputs": [],
   "source": [
    "#Read the data from CSV file\n",
    "df = pd.read_csv('data/human_body_temperature.csv')\n",
    "\n",
    "temperature_females = df[df.gender == 'F'].temperature\n",
    "#temperature_females\n",
    "\n",
    "temperature_males = df[df.gender == 'M'].temperature\n",
    "#temperature_males"
   ]
  },
  {
   "cell_type": "code",
   "execution_count": 33,
   "metadata": {
    "collapsed": false
   },
   "outputs": [
    {
     "data": {
      "text/plain": [
       "(65, 65)"
      ]
     },
     "execution_count": 33,
     "metadata": {},
     "output_type": "execute_result"
    }
   ],
   "source": [
    "len(temperature_females), len(temperature_males)"
   ]
  },
  {
   "cell_type": "code",
   "execution_count": 35,
   "metadata": {
    "collapsed": false
   },
   "outputs": [
    {
     "data": {
      "text/plain": [
       "2.285434538165274"
      ]
     },
     "execution_count": 35,
     "metadata": {},
     "output_type": "execute_result"
    }
   ],
   "source": [
    "#Since the sample size of both samples is large (>30), we can use the z-test to analyze the the difference of two means\n",
    "z_num = (temperature_females.mean()- temperature_males.mean())\n",
    "s_females = temperature_females.std()\n",
    "s_males = temperature_males.std()\n",
    "z_den = math.sqrt(math.pow(s_females,2)/len(temperature_females) + math.pow(s_males,2)/len(temperature_males))\n",
    "\n",
    "z = z_num/z_den\n",
    "z"
   ]
  },
  {
   "cell_type": "markdown",
   "metadata": {
    "collapsed": true
   },
   "source": [
    "Set alpha level = 0.05\n",
    "\n",
    "Since this is a two-sided test, split the alpha into two 0.05/2 = 0.025.\n",
    "The z-score associated with alpha level = 0.025 is 1.96.\n",
    "If our z-score = 2.28 is higher than 1.96 we could reject the null hypothesis.\n",
    "\n",
    "However, the z-score in this case is closer to the critical value, thus the result is more debatable that in exercise 1."
   ]
  },
  {
   "cell_type": "code",
   "execution_count": null,
   "metadata": {
    "collapsed": true
   },
   "outputs": [],
   "source": []
  },
  {
   "cell_type": "markdown",
   "metadata": {
    "collapsed": true
   },
   "source": [
    "It commonly accepted that the average body temperature of healthy adults is 98.6°F.\n",
    "The objetive of this analysis is to assess whether this hypotheis is true or not using \n",
    "a random sample taken from healthy adults. \n",
    "The average temperature of the sample is found to be 98.2°F, which may indicate that\n",
    "the true population mean is different from 98.6°F.\n",
    "The statistical evidence (hypothesis testing result) indicates that the average temperature of healthy adults\n",
    "is different from 98.6°F (assuming that our sample is representative and no biased due to an unexpected event).\n",
    "\n",
    "Regarding the temperature for men and women, our results may indicate that there is a significative difference between\n",
    "the mean temperature of both populations.\n"
   ]
  },
  {
   "cell_type": "code",
   "execution_count": null,
   "metadata": {
    "collapsed": true
   },
   "outputs": [],
   "source": []
  }
 ],
 "metadata": {
  "kernelspec": {
   "display_name": "Python 3",
   "language": "python",
   "name": "python3"
  },
  "language_info": {
   "codemirror_mode": {
    "name": "ipython",
    "version": 3
   },
   "file_extension": ".py",
   "mimetype": "text/x-python",
   "name": "python",
   "nbconvert_exporter": "python",
   "pygments_lexer": "ipython3",
   "version": "3.6.0"
  }
 },
 "nbformat": 4,
 "nbformat_minor": 0
}
